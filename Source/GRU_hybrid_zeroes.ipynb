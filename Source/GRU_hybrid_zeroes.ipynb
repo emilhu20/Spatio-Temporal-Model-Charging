{
 "cells": [
  {
   "cell_type": "code",
   "execution_count": 1,
   "metadata": {},
   "outputs": [],
   "source": [
    "import torch\n",
    "import torch.nn as nn\n",
    "import torch.optim as optim\n",
    "import pandas as pd\n",
    "import numpy as np\n",
    "import matplotlib.pyplot as plt\n",
    "import re\n",
    "#import statsmodels\n",
    "import matplotlib.dates as mdates\n",
    "\n",
    "import pickle\n",
    "import warnings\n",
    "\n",
    "from sklearn.preprocessing import MinMaxScaler\n",
    "from collections import defaultdict\n",
    "from torch.utils.data import DataLoader, TensorDataset, Subset\n",
    "from sklearn.preprocessing import MinMaxScaler, LabelEncoder, StandardScaler\n",
    "from sklearn.model_selection import train_test_split\n",
    "from sklearn.metrics import mean_squared_error, mean_absolute_error, r2_score\n",
    "from tqdm.notebook import tqdm\n",
    "from sklearn.model_selection import TimeSeriesSplit\n"
   ]
  },
  {
   "cell_type": "code",
   "execution_count": 7,
   "metadata": {},
   "outputs": [
    {
     "data": {
      "text/html": [
       "<div>\n",
       "<style scoped>\n",
       "    .dataframe tbody tr th:only-of-type {\n",
       "        vertical-align: middle;\n",
       "    }\n",
       "\n",
       "    .dataframe tbody tr th {\n",
       "        vertical-align: top;\n",
       "    }\n",
       "\n",
       "    .dataframe thead th {\n",
       "        text-align: right;\n",
       "    }\n",
       "</style>\n",
       "<table border=\"1\" class=\"dataframe\">\n",
       "  <thead>\n",
       "    <tr style=\"text-align: right;\">\n",
       "      <th></th>\n",
       "      <th>timestamp_rounded</th>\n",
       "      <th>longitude</th>\n",
       "      <th>latitude</th>\n",
       "      <th>status_3_ratio</th>\n",
       "      <th>hours_elapsed</th>\n",
       "    </tr>\n",
       "  </thead>\n",
       "  <tbody>\n",
       "    <tr>\n",
       "      <th>0</th>\n",
       "      <td>2023-08-10 13:30:00</td>\n",
       "      <td>8.141860</td>\n",
       "      <td>55.555610</td>\n",
       "      <td>0.00</td>\n",
       "      <td>0.0</td>\n",
       "    </tr>\n",
       "    <tr>\n",
       "      <th>1</th>\n",
       "      <td>2023-08-10 14:00:00</td>\n",
       "      <td>8.141860</td>\n",
       "      <td>55.555610</td>\n",
       "      <td>0.00</td>\n",
       "      <td>0.5</td>\n",
       "    </tr>\n",
       "    <tr>\n",
       "      <th>2</th>\n",
       "      <td>2023-08-10 14:30:00</td>\n",
       "      <td>8.141860</td>\n",
       "      <td>55.555610</td>\n",
       "      <td>0.00</td>\n",
       "      <td>1.0</td>\n",
       "    </tr>\n",
       "    <tr>\n",
       "      <th>3</th>\n",
       "      <td>2023-08-10 15:00:00</td>\n",
       "      <td>8.141860</td>\n",
       "      <td>55.555610</td>\n",
       "      <td>0.00</td>\n",
       "      <td>1.5</td>\n",
       "    </tr>\n",
       "    <tr>\n",
       "      <th>4</th>\n",
       "      <td>2023-08-10 15:30:00</td>\n",
       "      <td>8.141860</td>\n",
       "      <td>55.555610</td>\n",
       "      <td>0.00</td>\n",
       "      <td>2.0</td>\n",
       "    </tr>\n",
       "    <tr>\n",
       "      <th>...</th>\n",
       "      <td>...</td>\n",
       "      <td>...</td>\n",
       "      <td>...</td>\n",
       "      <td>...</td>\n",
       "      <td>...</td>\n",
       "    </tr>\n",
       "    <tr>\n",
       "      <th>893816</th>\n",
       "      <td>2023-10-16 09:00:00</td>\n",
       "      <td>12.659088</td>\n",
       "      <td>55.595629</td>\n",
       "      <td>0.50</td>\n",
       "      <td>1603.5</td>\n",
       "    </tr>\n",
       "    <tr>\n",
       "      <th>893817</th>\n",
       "      <td>2023-10-16 09:30:00</td>\n",
       "      <td>12.659088</td>\n",
       "      <td>55.595629</td>\n",
       "      <td>0.50</td>\n",
       "      <td>1604.0</td>\n",
       "    </tr>\n",
       "    <tr>\n",
       "      <th>893818</th>\n",
       "      <td>2023-10-16 10:00:00</td>\n",
       "      <td>12.659088</td>\n",
       "      <td>55.595629</td>\n",
       "      <td>0.50</td>\n",
       "      <td>1604.5</td>\n",
       "    </tr>\n",
       "    <tr>\n",
       "      <th>893819</th>\n",
       "      <td>2023-10-16 10:30:00</td>\n",
       "      <td>12.659088</td>\n",
       "      <td>55.595629</td>\n",
       "      <td>0.75</td>\n",
       "      <td>1605.0</td>\n",
       "    </tr>\n",
       "    <tr>\n",
       "      <th>893820</th>\n",
       "      <td>2023-10-16 11:00:00</td>\n",
       "      <td>12.659088</td>\n",
       "      <td>55.595629</td>\n",
       "      <td>0.50</td>\n",
       "      <td>1605.5</td>\n",
       "    </tr>\n",
       "  </tbody>\n",
       "</table>\n",
       "<p>893821 rows × 5 columns</p>\n",
       "</div>"
      ],
      "text/plain": [
       "         timestamp_rounded  longitude   latitude  status_3_ratio  \\\n",
       "0      2023-08-10 13:30:00   8.141860  55.555610            0.00   \n",
       "1      2023-08-10 14:00:00   8.141860  55.555610            0.00   \n",
       "2      2023-08-10 14:30:00   8.141860  55.555610            0.00   \n",
       "3      2023-08-10 15:00:00   8.141860  55.555610            0.00   \n",
       "4      2023-08-10 15:30:00   8.141860  55.555610            0.00   \n",
       "...                    ...        ...        ...             ...   \n",
       "893816 2023-10-16 09:00:00  12.659088  55.595629            0.50   \n",
       "893817 2023-10-16 09:30:00  12.659088  55.595629            0.50   \n",
       "893818 2023-10-16 10:00:00  12.659088  55.595629            0.50   \n",
       "893819 2023-10-16 10:30:00  12.659088  55.595629            0.75   \n",
       "893820 2023-10-16 11:00:00  12.659088  55.595629            0.50   \n",
       "\n",
       "        hours_elapsed  \n",
       "0                 0.0  \n",
       "1                 0.5  \n",
       "2                 1.0  \n",
       "3                 1.5  \n",
       "4                 2.0  \n",
       "...               ...  \n",
       "893816         1603.5  \n",
       "893817         1604.0  \n",
       "893818         1604.5  \n",
       "893819         1605.0  \n",
       "893820         1605.5  \n",
       "\n",
       "[893821 rows x 5 columns]"
      ]
     },
     "metadata": {},
     "output_type": "display_data"
    }
   ],
   "source": [
    "\"\"\"\n",
    "Get data\n",
    "\"\"\"\n",
    "#df = pd.read_parquet('../../../Datasets/data_processed_half_Basti_final.parq')\n",
    "df = pd.read_parquet('../../Datasets/data_processed_half.parq')\n",
    "\n",
    "\n",
    "#-----------------------Data cleaning-----------------------\n",
    "# Drop columns and charging stations  \n",
    "df = df.drop(['plugType1', 'plugType2', 'plugCCS', 'plugTesla', 'plugChademo', 'owner'], axis=1)  \n",
    "\n",
    "# List of coordinates\n",
    "coordinates = [\n",
    "    (8.141860, 55.555610),\n",
    "    (12.163113, 55.489025),\n",
    "    (8.620159, 56.361676),\n",
    "]\n",
    "\n",
    "# Convert coordinates list to a DataFrame for easy comparison\n",
    "coords_df = pd.DataFrame(coordinates, columns=['longitude', 'latitude'])\n",
    "\n",
    "# Update status_3_ratio to 0 for matching coordinates\n",
    "for index, row in coords_df.iterrows():\n",
    "    df.loc[(df['longitude'] == row['longitude']) & (df['latitude'] == row['latitude']), 'status_3_ratio'] = 0\n",
    "\n",
    "# Display the updated dataframe\n",
    "display(df)"
   ]
  },
  {
   "cell_type": "code",
   "execution_count": 9,
   "metadata": {},
   "outputs": [
    {
     "data": {
      "text/html": [
       "<div>\n",
       "<style scoped>\n",
       "    .dataframe tbody tr th:only-of-type {\n",
       "        vertical-align: middle;\n",
       "    }\n",
       "\n",
       "    .dataframe tbody tr th {\n",
       "        vertical-align: top;\n",
       "    }\n",
       "\n",
       "    .dataframe thead th {\n",
       "        text-align: right;\n",
       "    }\n",
       "</style>\n",
       "<table border=\"1\" class=\"dataframe\">\n",
       "  <thead>\n",
       "    <tr style=\"text-align: right;\">\n",
       "      <th></th>\n",
       "      <th>timestamp_rounded</th>\n",
       "      <th>longitude</th>\n",
       "      <th>latitude</th>\n",
       "      <th>status_3_ratio</th>\n",
       "      <th>hours_elapsed</th>\n",
       "    </tr>\n",
       "  </thead>\n",
       "  <tbody>\n",
       "    <tr>\n",
       "      <th>680112</th>\n",
       "      <td>2023-08-10 13:30:00</td>\n",
       "      <td>12.163113</td>\n",
       "      <td>55.489025</td>\n",
       "      <td>0.0</td>\n",
       "      <td>0.0</td>\n",
       "    </tr>\n",
       "    <tr>\n",
       "      <th>680113</th>\n",
       "      <td>2023-08-10 14:00:00</td>\n",
       "      <td>12.163113</td>\n",
       "      <td>55.489025</td>\n",
       "      <td>0.0</td>\n",
       "      <td>0.5</td>\n",
       "    </tr>\n",
       "    <tr>\n",
       "      <th>680114</th>\n",
       "      <td>2023-08-10 14:30:00</td>\n",
       "      <td>12.163113</td>\n",
       "      <td>55.489025</td>\n",
       "      <td>0.0</td>\n",
       "      <td>1.0</td>\n",
       "    </tr>\n",
       "    <tr>\n",
       "      <th>680115</th>\n",
       "      <td>2023-08-10 15:00:00</td>\n",
       "      <td>12.163113</td>\n",
       "      <td>55.489025</td>\n",
       "      <td>0.0</td>\n",
       "      <td>1.5</td>\n",
       "    </tr>\n",
       "    <tr>\n",
       "      <th>680116</th>\n",
       "      <td>2023-08-10 15:30:00</td>\n",
       "      <td>12.163113</td>\n",
       "      <td>55.489025</td>\n",
       "      <td>0.0</td>\n",
       "      <td>2.0</td>\n",
       "    </tr>\n",
       "    <tr>\n",
       "      <th>...</th>\n",
       "      <td>...</td>\n",
       "      <td>...</td>\n",
       "      <td>...</td>\n",
       "      <td>...</td>\n",
       "      <td>...</td>\n",
       "    </tr>\n",
       "    <tr>\n",
       "      <th>681907</th>\n",
       "      <td>2023-10-02 10:00:00</td>\n",
       "      <td>12.163113</td>\n",
       "      <td>55.489025</td>\n",
       "      <td>0.0</td>\n",
       "      <td>1268.5</td>\n",
       "    </tr>\n",
       "    <tr>\n",
       "      <th>681908</th>\n",
       "      <td>2023-10-02 10:30:00</td>\n",
       "      <td>12.163113</td>\n",
       "      <td>55.489025</td>\n",
       "      <td>0.0</td>\n",
       "      <td>1269.0</td>\n",
       "    </tr>\n",
       "    <tr>\n",
       "      <th>681909</th>\n",
       "      <td>2023-10-02 11:00:00</td>\n",
       "      <td>12.163113</td>\n",
       "      <td>55.489025</td>\n",
       "      <td>0.0</td>\n",
       "      <td>1269.5</td>\n",
       "    </tr>\n",
       "    <tr>\n",
       "      <th>681910</th>\n",
       "      <td>2023-10-02 11:30:00</td>\n",
       "      <td>12.163113</td>\n",
       "      <td>55.489025</td>\n",
       "      <td>0.0</td>\n",
       "      <td>1270.0</td>\n",
       "    </tr>\n",
       "    <tr>\n",
       "      <th>681911</th>\n",
       "      <td>2023-10-02 12:00:00</td>\n",
       "      <td>12.163113</td>\n",
       "      <td>55.489025</td>\n",
       "      <td>0.0</td>\n",
       "      <td>1270.5</td>\n",
       "    </tr>\n",
       "  </tbody>\n",
       "</table>\n",
       "<p>1800 rows × 5 columns</p>\n",
       "</div>"
      ],
      "text/plain": [
       "         timestamp_rounded  longitude   latitude  status_3_ratio  \\\n",
       "680112 2023-08-10 13:30:00  12.163113  55.489025             0.0   \n",
       "680113 2023-08-10 14:00:00  12.163113  55.489025             0.0   \n",
       "680114 2023-08-10 14:30:00  12.163113  55.489025             0.0   \n",
       "680115 2023-08-10 15:00:00  12.163113  55.489025             0.0   \n",
       "680116 2023-08-10 15:30:00  12.163113  55.489025             0.0   \n",
       "...                    ...        ...        ...             ...   \n",
       "681907 2023-10-02 10:00:00  12.163113  55.489025             0.0   \n",
       "681908 2023-10-02 10:30:00  12.163113  55.489025             0.0   \n",
       "681909 2023-10-02 11:00:00  12.163113  55.489025             0.0   \n",
       "681910 2023-10-02 11:30:00  12.163113  55.489025             0.0   \n",
       "681911 2023-10-02 12:00:00  12.163113  55.489025             0.0   \n",
       "\n",
       "        hours_elapsed  \n",
       "680112            0.0  \n",
       "680113            0.5  \n",
       "680114            1.0  \n",
       "680115            1.5  \n",
       "680116            2.0  \n",
       "...               ...  \n",
       "681907         1268.5  \n",
       "681908         1269.0  \n",
       "681909         1269.5  \n",
       "681910         1270.0  \n",
       "681911         1270.5  \n",
       "\n",
       "[1800 rows x 5 columns]"
      ]
     },
     "metadata": {},
     "output_type": "display_data"
    },
    {
     "name": "stdout",
     "output_type": "stream",
     "text": [
      "2274\n"
     ]
    },
    {
     "data": {
      "image/png": "[encoded data removed]",
      "text/plain": [
       "<Figure size 1000x600 with 1 Axes>"
      ]
     },
     "metadata": {},
     "output_type": "display_data"
    }
   ],
   "source": [
    "\"\"\"\n",
    "Visualize entire time series for a single station\n",
    "\"\"\"\n",
    "# example coordinates\n",
    "specific_longitude = 12.163113\n",
    "specific_latitude = 55.489025\n",
    "\n",
    "#get specific station \n",
    "example_station = df[(df['longitude'] == specific_longitude) & (df['latitude'] == specific_latitude)]\n",
    "display(example_station.head(1800))\n",
    "print(len(example_station))\n",
    "\n",
    "#plotting \n",
    "plt.figure(figsize=(10, 6))\n",
    "plt.plot(example_station['timestamp_rounded'], example_station['status_3_ratio'], linestyle='-', label='Interpolated')\n",
    "plt.title('Status 3 ratio for a Charging Station')\n",
    "plt.xlabel('Timestamp')\n",
    "plt.ylabel('status_3_ratio')\n",
    "plt.show()"
   ]
  },
  {
   "cell_type": "markdown",
   "metadata": {},
   "source": [
    "# Data Preprocessing"
   ]
  },
  {
   "cell_type": "markdown",
   "metadata": {},
   "source": [
    "### Time features"
   ]
  },
  {
   "cell_type": "code",
   "execution_count": 10,
   "metadata": {},
   "outputs": [],
   "source": [
    "\"\"\"\n",
    "Add time columns \n",
    "\"\"\"\n",
    "# Assuming df is your DataFrame containing the data\n",
    "df['timestamp_rounded'] = pd.to_datetime(df['timestamp_rounded'])\n",
    "\n",
    "# Extract hour of day, minute of hour, and day of week\n",
    "df['hour_of_day'] = df['timestamp_rounded'].dt.hour\n",
    "df['minute_of_hour'] = df['timestamp_rounded'].dt.minute\n",
    "df['day_of_week'] = df['timestamp_rounded'].dt.dayofweek\n",
    "\n",
    "# Convert hour and minute to cyclic coordinates\n",
    "df['hour_sin'] = np.sin(df['hour_of_day'] * (2. * np.pi / 24))\n",
    "df['hour_cos'] = np.cos(df['hour_of_day'] * (2. * np.pi / 24))\n",
    "df['minute_sin'] = np.sin(df['minute_of_hour'] * (2. * np.pi / 60))  # Cyclic transformation for minutes\n",
    "df['minute_cos'] = np.cos(df['minute_of_hour'] * (2. * np.pi / 60))\n",
    "\n",
    "# Convert day to cyclic coordinates\n",
    "df['day_sin'] = np.sin(df['day_of_week'] * (2. * np.pi / 7))\n",
    "df['day_cos'] = np.cos(df['day_of_week'] * (2. * np.pi / 7))\n",
    "\n",
    "# Drop the original timestamp and extracted features if they are no longer needed directly\n",
    "df.drop(['hour_of_day', 'minute_of_hour', 'day_of_week'], axis=1, inplace=True)"
   ]
  },
  {
   "cell_type": "code",
   "execution_count": 11,
   "metadata": {},
   "outputs": [
    {
     "data": {
      "text/html": [
       "<div>\n",
       "<style scoped>\n",
       "    .dataframe tbody tr th:only-of-type {\n",
       "        vertical-align: middle;\n",
       "    }\n",
       "\n",
       "    .dataframe tbody tr th {\n",
       "        vertical-align: top;\n",
       "    }\n",
       "\n",
       "    .dataframe thead th {\n",
       "        text-align: right;\n",
       "    }\n",
       "</style>\n",
       "<table border=\"1\" class=\"dataframe\">\n",
       "  <thead>\n",
       "    <tr style=\"text-align: right;\">\n",
       "      <th></th>\n",
       "      <th>timestamp_rounded</th>\n",
       "      <th>longitude</th>\n",
       "      <th>latitude</th>\n",
       "      <th>status_3_ratio</th>\n",
       "      <th>hours_elapsed</th>\n",
       "      <th>hour_sin</th>\n",
       "      <th>hour_cos</th>\n",
       "      <th>minute_sin</th>\n",
       "      <th>minute_cos</th>\n",
       "      <th>day_sin</th>\n",
       "      <th>...</th>\n",
       "      <th>status_3_ratio_lag_68</th>\n",
       "      <th>status_3_ratio_lag_85</th>\n",
       "      <th>status_3_ratio_lag_119</th>\n",
       "      <th>status_3_ratio_lag_136</th>\n",
       "      <th>status_3_ratio_lag_153</th>\n",
       "      <th>status_3_ratio_lag_170</th>\n",
       "      <th>status_3_ratio_lag_187</th>\n",
       "      <th>status_3_ratio_lag_204</th>\n",
       "      <th>status_3_ratio_lag_221</th>\n",
       "      <th>status_3_ratio_lag_238</th>\n",
       "    </tr>\n",
       "  </thead>\n",
       "  <tbody>\n",
       "    <tr>\n",
       "      <th>238</th>\n",
       "      <td>2023-08-17 13:30:00</td>\n",
       "      <td>8.14186</td>\n",
       "      <td>55.55561</td>\n",
       "      <td>0.0</td>\n",
       "      <td>0.104608</td>\n",
       "      <td>0.37059</td>\n",
       "      <td>0.017332</td>\n",
       "      <td>1.224647e-16</td>\n",
       "      <td>0.0</td>\n",
       "      <td>0.722521</td>\n",
       "      <td>...</td>\n",
       "      <td>0.0</td>\n",
       "      <td>0.0</td>\n",
       "      <td>0.0</td>\n",
       "      <td>0.0</td>\n",
       "      <td>0.0</td>\n",
       "      <td>0.0</td>\n",
       "      <td>0.0</td>\n",
       "      <td>0.0</td>\n",
       "      <td>0.0</td>\n",
       "      <td>0.0</td>\n",
       "    </tr>\n",
       "  </tbody>\n",
       "</table>\n",
       "<p>1 rows × 26 columns</p>\n",
       "</div>"
      ],
      "text/plain": [
       "      timestamp_rounded  longitude  latitude  status_3_ratio  hours_elapsed  \\\n",
       "238 2023-08-17 13:30:00    8.14186  55.55561             0.0       0.104608   \n",
       "\n",
       "     hour_sin  hour_cos    minute_sin  minute_cos   day_sin  ...  \\\n",
       "238   0.37059  0.017332  1.224647e-16         0.0  0.722521  ...   \n",
       "\n",
       "     status_3_ratio_lag_68  status_3_ratio_lag_85  status_3_ratio_lag_119  \\\n",
       "238                    0.0                    0.0                     0.0   \n",
       "\n",
       "     status_3_ratio_lag_136  status_3_ratio_lag_153  status_3_ratio_lag_170  \\\n",
       "238                     0.0                     0.0                     0.0   \n",
       "\n",
       "     status_3_ratio_lag_187  status_3_ratio_lag_204  status_3_ratio_lag_221  \\\n",
       "238                     0.0                     0.0                     0.0   \n",
       "\n",
       "     status_3_ratio_lag_238  \n",
       "238                     0.0  \n",
       "\n",
       "[1 rows x 26 columns]"
      ]
     },
     "metadata": {},
     "output_type": "display_data"
    },
    {
     "data": {
      "text/plain": [
       "<bound method IndexOpsMixin.tolist of Index(['timestamp_rounded', 'longitude', 'latitude', 'status_3_ratio',\n",
       "       'hours_elapsed', 'hour_sin', 'hour_cos', 'minute_sin', 'minute_cos',\n",
       "       'day_sin', 'day_cos', 'status_3_ratio_lag_1', 'status_3_ratio_lag_2',\n",
       "       'status_3_ratio_lag_17', 'status_3_ratio_lag_34',\n",
       "       'status_3_ratio_lag_51', 'status_3_ratio_lag_68',\n",
       "       'status_3_ratio_lag_85', 'status_3_ratio_lag_119',\n",
       "       'status_3_ratio_lag_136', 'status_3_ratio_lag_153',\n",
       "       'status_3_ratio_lag_170', 'status_3_ratio_lag_187',\n",
       "       'status_3_ratio_lag_204', 'status_3_ratio_lag_221',\n",
       "       'status_3_ratio_lag_238'],\n",
       "      dtype='object')>"
      ]
     },
     "metadata": {},
     "output_type": "display_data"
    }
   ],
   "source": [
    "\"\"\"\n",
    "Add significant lags for each station \n",
    "\"\"\"\n",
    "significant_lags_weekly = [1, 2, 17, 34, 51, 68, 85, 119, 136, 153, 170, 187, 204, 221, 238]  #based on time series analysis \n",
    "significant_lags_daily  = [1, 2, 17, 34]\n",
    "\n",
    "# Creating new features for the significant lags\n",
    "for lag in significant_lags_weekly:\n",
    "    df[f'status_3_ratio_lag_{lag}'] = df['status_3_ratio'].shift(lag).astype('float32')\n",
    "\n",
    "# After creating lagged features, you may need to drop the NaN values created due to shifting\n",
    "df = df.dropna()\n",
    "\n",
    "\n",
    "\"\"\"\n",
    "Normalize the features \n",
    "\"\"\"\n",
    "# Now, normalize your dataset, including the new lagged features\n",
    "scaler = MinMaxScaler()\n",
    "features_to_normalize = df.columns.difference(['timestamp_rounded', 'status_3_ratio', 'longitude', 'latitude'])\n",
    "df[features_to_normalize] = scaler.fit_transform(df[features_to_normalize])\n",
    "\n",
    "display(df.head(1))\n",
    "display(df.columns.tolist)"
   ]
  },
  {
   "cell_type": "markdown",
   "metadata": {},
   "source": [
    "# GNN Node embeddings"
   ]
  },
  {
   "cell_type": "code",
   "execution_count": 12,
   "metadata": {},
   "outputs": [
    {
     "data": {
      "text/html": [
       "<div>\n",
       "<style scoped>\n",
       "    .dataframe tbody tr th:only-of-type {\n",
       "        vertical-align: middle;\n",
       "    }\n",
       "\n",
       "    .dataframe tbody tr th {\n",
       "        vertical-align: top;\n",
       "    }\n",
       "\n",
       "    .dataframe thead th {\n",
       "        text-align: right;\n",
       "    }\n",
       "</style>\n",
       "<table border=\"1\" class=\"dataframe\">\n",
       "  <thead>\n",
       "    <tr style=\"text-align: right;\">\n",
       "      <th></th>\n",
       "      <th>latitude</th>\n",
       "      <th>longitude</th>\n",
       "    </tr>\n",
       "  </thead>\n",
       "  <tbody>\n",
       "    <tr>\n",
       "      <th>238</th>\n",
       "      <td>55.555610</td>\n",
       "      <td>8.141860</td>\n",
       "    </tr>\n",
       "    <tr>\n",
       "      <th>2275</th>\n",
       "      <td>56.705280</td>\n",
       "      <td>8.213788</td>\n",
       "    </tr>\n",
       "    <tr>\n",
       "      <th>4550</th>\n",
       "      <td>56.700175</td>\n",
       "      <td>8.221635</td>\n",
       "    </tr>\n",
       "    <tr>\n",
       "      <th>6824</th>\n",
       "      <td>56.781686</td>\n",
       "      <td>8.232640</td>\n",
       "    </tr>\n",
       "    <tr>\n",
       "      <th>9098</th>\n",
       "      <td>56.094496</td>\n",
       "      <td>8.235740</td>\n",
       "    </tr>\n",
       "    <tr>\n",
       "      <th>...</th>\n",
       "      <td>...</td>\n",
       "      <td>...</td>\n",
       "    </tr>\n",
       "    <tr>\n",
       "      <th>882448</th>\n",
       "      <td>55.669914</td>\n",
       "      <td>12.622625</td>\n",
       "    </tr>\n",
       "    <tr>\n",
       "      <th>884723</th>\n",
       "      <td>55.627132</td>\n",
       "      <td>12.624391</td>\n",
       "    </tr>\n",
       "    <tr>\n",
       "      <th>886998</th>\n",
       "      <td>55.620538</td>\n",
       "      <td>12.629468</td>\n",
       "    </tr>\n",
       "    <tr>\n",
       "      <th>889272</th>\n",
       "      <td>55.631338</td>\n",
       "      <td>12.656632</td>\n",
       "    </tr>\n",
       "    <tr>\n",
       "      <th>891547</th>\n",
       "      <td>55.595629</td>\n",
       "      <td>12.659088</td>\n",
       "    </tr>\n",
       "  </tbody>\n",
       "</table>\n",
       "<p>392 rows × 2 columns</p>\n",
       "</div>"
      ],
      "text/plain": [
       "         latitude  longitude\n",
       "238     55.555610   8.141860\n",
       "2275    56.705280   8.213788\n",
       "4550    56.700175   8.221635\n",
       "6824    56.781686   8.232640\n",
       "9098    56.094496   8.235740\n",
       "...           ...        ...\n",
       "882448  55.669914  12.622625\n",
       "884723  55.627132  12.624391\n",
       "886998  55.620538  12.629468\n",
       "889272  55.631338  12.656632\n",
       "891547  55.595629  12.659088\n",
       "\n",
       "[392 rows x 2 columns]"
      ]
     },
     "metadata": {},
     "output_type": "display_data"
    },
    {
     "data": {
      "text/html": [
       "<div>\n",
       "<style scoped>\n",
       "    .dataframe tbody tr th:only-of-type {\n",
       "        vertical-align: middle;\n",
       "    }\n",
       "\n",
       "    .dataframe tbody tr th {\n",
       "        vertical-align: top;\n",
       "    }\n",
       "\n",
       "    .dataframe thead th {\n",
       "        text-align: right;\n",
       "    }\n",
       "</style>\n",
       "<table border=\"1\" class=\"dataframe\">\n",
       "  <thead>\n",
       "    <tr style=\"text-align: right;\">\n",
       "      <th></th>\n",
       "      <th>timestamp_rounded</th>\n",
       "      <th>longitude</th>\n",
       "      <th>latitude</th>\n",
       "      <th>status_3_ratio</th>\n",
       "      <th>hours_elapsed</th>\n",
       "      <th>hour_sin</th>\n",
       "      <th>hour_cos</th>\n",
       "      <th>minute_sin</th>\n",
       "      <th>minute_cos</th>\n",
       "      <th>day_sin</th>\n",
       "      <th>day_cos</th>\n",
       "      <th>status_3_ratio_lag_1</th>\n",
       "      <th>status_3_ratio_lag_2</th>\n",
       "      <th>status_3_ratio_lag_17</th>\n",
       "      <th>status_3_ratio_lag_34</th>\n",
       "      <th>status_3_ratio_lag_51</th>\n",
       "      <th>status_3_ratio_lag_68</th>\n",
       "      <th>status_3_ratio_lag_85</th>\n",
       "      <th>status_3_ratio_lag_119</th>\n",
       "      <th>status_3_ratio_lag_136</th>\n",
       "      <th>status_3_ratio_lag_153</th>\n",
       "      <th>status_3_ratio_lag_170</th>\n",
       "      <th>status_3_ratio_lag_187</th>\n",
       "      <th>status_3_ratio_lag_204</th>\n",
       "      <th>status_3_ratio_lag_221</th>\n",
       "      <th>status_3_ratio_lag_238</th>\n",
       "      <th>node_index</th>\n",
       "    </tr>\n",
       "  </thead>\n",
       "  <tbody>\n",
       "    <tr>\n",
       "      <th>238</th>\n",
       "      <td>2023-08-17 13:30:00</td>\n",
       "      <td>8.14186</td>\n",
       "      <td>55.55561</td>\n",
       "      <td>0.0</td>\n",
       "      <td>0.104608</td>\n",
       "      <td>0.370590</td>\n",
       "      <td>0.017332</td>\n",
       "      <td>1.224647e-16</td>\n",
       "      <td>0.0</td>\n",
       "      <td>0.722521</td>\n",
       "      <td>5.551115e-17</td>\n",
       "      <td>0.0</td>\n",
       "      <td>0.0</td>\n",
       "      <td>0.0</td>\n",
       "      <td>0.0</td>\n",
       "      <td>0.0</td>\n",
       "      <td>0.0</td>\n",
       "      <td>0.0</td>\n",
       "      <td>0.0</td>\n",
       "      <td>0.0</td>\n",
       "      <td>0.0</td>\n",
       "      <td>0.0</td>\n",
       "      <td>0.0</td>\n",
       "      <td>0.0</td>\n",
       "      <td>0.0</td>\n",
       "      <td>0.0</td>\n",
       "      <td>0</td>\n",
       "    </tr>\n",
       "    <tr>\n",
       "      <th>239</th>\n",
       "      <td>2023-08-17 14:00:00</td>\n",
       "      <td>8.14186</td>\n",
       "      <td>55.55561</td>\n",
       "      <td>0.0</td>\n",
       "      <td>0.104919</td>\n",
       "      <td>0.250000</td>\n",
       "      <td>0.068148</td>\n",
       "      <td>0.000000e+00</td>\n",
       "      <td>1.0</td>\n",
       "      <td>0.722521</td>\n",
       "      <td>5.551115e-17</td>\n",
       "      <td>0.0</td>\n",
       "      <td>0.0</td>\n",
       "      <td>0.0</td>\n",
       "      <td>0.0</td>\n",
       "      <td>0.0</td>\n",
       "      <td>0.0</td>\n",
       "      <td>0.0</td>\n",
       "      <td>0.0</td>\n",
       "      <td>0.0</td>\n",
       "      <td>0.0</td>\n",
       "      <td>0.0</td>\n",
       "      <td>0.0</td>\n",
       "      <td>0.0</td>\n",
       "      <td>0.0</td>\n",
       "      <td>0.0</td>\n",
       "      <td>0</td>\n",
       "    </tr>\n",
       "    <tr>\n",
       "      <th>240</th>\n",
       "      <td>2023-08-17 14:30:00</td>\n",
       "      <td>8.14186</td>\n",
       "      <td>55.55561</td>\n",
       "      <td>0.0</td>\n",
       "      <td>0.105230</td>\n",
       "      <td>0.250000</td>\n",
       "      <td>0.068148</td>\n",
       "      <td>1.224647e-16</td>\n",
       "      <td>0.0</td>\n",
       "      <td>0.722521</td>\n",
       "      <td>5.551115e-17</td>\n",
       "      <td>0.0</td>\n",
       "      <td>0.0</td>\n",
       "      <td>0.0</td>\n",
       "      <td>0.0</td>\n",
       "      <td>0.0</td>\n",
       "      <td>0.0</td>\n",
       "      <td>0.0</td>\n",
       "      <td>0.0</td>\n",
       "      <td>0.0</td>\n",
       "      <td>0.0</td>\n",
       "      <td>0.0</td>\n",
       "      <td>0.0</td>\n",
       "      <td>0.0</td>\n",
       "      <td>0.0</td>\n",
       "      <td>0.0</td>\n",
       "      <td>0</td>\n",
       "    </tr>\n",
       "    <tr>\n",
       "      <th>241</th>\n",
       "      <td>2023-08-17 15:00:00</td>\n",
       "      <td>8.14186</td>\n",
       "      <td>55.55561</td>\n",
       "      <td>0.0</td>\n",
       "      <td>0.105542</td>\n",
       "      <td>0.146447</td>\n",
       "      <td>0.148985</td>\n",
       "      <td>0.000000e+00</td>\n",
       "      <td>1.0</td>\n",
       "      <td>0.722521</td>\n",
       "      <td>5.551115e-17</td>\n",
       "      <td>0.0</td>\n",
       "      <td>0.0</td>\n",
       "      <td>0.0</td>\n",
       "      <td>0.0</td>\n",
       "      <td>0.0</td>\n",
       "      <td>0.0</td>\n",
       "      <td>0.0</td>\n",
       "      <td>0.0</td>\n",
       "      <td>0.0</td>\n",
       "      <td>0.0</td>\n",
       "      <td>0.0</td>\n",
       "      <td>0.0</td>\n",
       "      <td>0.0</td>\n",
       "      <td>0.0</td>\n",
       "      <td>0.0</td>\n",
       "      <td>0</td>\n",
       "    </tr>\n",
       "    <tr>\n",
       "      <th>242</th>\n",
       "      <td>2023-08-17 15:30:00</td>\n",
       "      <td>8.14186</td>\n",
       "      <td>55.55561</td>\n",
       "      <td>0.0</td>\n",
       "      <td>0.105853</td>\n",
       "      <td>0.146447</td>\n",
       "      <td>0.148985</td>\n",
       "      <td>1.224647e-16</td>\n",
       "      <td>0.0</td>\n",
       "      <td>0.722521</td>\n",
       "      <td>5.551115e-17</td>\n",
       "      <td>0.0</td>\n",
       "      <td>0.0</td>\n",
       "      <td>0.0</td>\n",
       "      <td>0.0</td>\n",
       "      <td>0.0</td>\n",
       "      <td>0.0</td>\n",
       "      <td>0.0</td>\n",
       "      <td>0.0</td>\n",
       "      <td>0.0</td>\n",
       "      <td>0.0</td>\n",
       "      <td>0.0</td>\n",
       "      <td>0.0</td>\n",
       "      <td>0.0</td>\n",
       "      <td>0.0</td>\n",
       "      <td>0.0</td>\n",
       "      <td>0</td>\n",
       "    </tr>\n",
       "  </tbody>\n",
       "</table>\n",
       "</div>"
      ],
      "text/plain": [
       "      timestamp_rounded  longitude  latitude  status_3_ratio  hours_elapsed  \\\n",
       "238 2023-08-17 13:30:00    8.14186  55.55561             0.0       0.104608   \n",
       "239 2023-08-17 14:00:00    8.14186  55.55561             0.0       0.104919   \n",
       "240 2023-08-17 14:30:00    8.14186  55.55561             0.0       0.105230   \n",
       "241 2023-08-17 15:00:00    8.14186  55.55561             0.0       0.105542   \n",
       "242 2023-08-17 15:30:00    8.14186  55.55561             0.0       0.105853   \n",
       "\n",
       "     hour_sin  hour_cos    minute_sin  minute_cos   day_sin       day_cos  \\\n",
       "238  0.370590  0.017332  1.224647e-16         0.0  0.722521  5.551115e-17   \n",
       "239  0.250000  0.068148  0.000000e+00         1.0  0.722521  5.551115e-17   \n",
       "240  0.250000  0.068148  1.224647e-16         0.0  0.722521  5.551115e-17   \n",
       "241  0.146447  0.148985  0.000000e+00         1.0  0.722521  5.551115e-17   \n",
       "242  0.146447  0.148985  1.224647e-16         0.0  0.722521  5.551115e-17   \n",
       "\n",
       "     status_3_ratio_lag_1  status_3_ratio_lag_2  status_3_ratio_lag_17  \\\n",
       "238                   0.0                   0.0                    0.0   \n",
       "239                   0.0                   0.0                    0.0   \n",
       "240                   0.0                   0.0                    0.0   \n",
       "241                   0.0                   0.0                    0.0   \n",
       "242                   0.0                   0.0                    0.0   \n",
       "\n",
       "     status_3_ratio_lag_34  status_3_ratio_lag_51  status_3_ratio_lag_68  \\\n",
       "238                    0.0                    0.0                    0.0   \n",
       "239                    0.0                    0.0                    0.0   \n",
       "240                    0.0                    0.0                    0.0   \n",
       "241                    0.0                    0.0                    0.0   \n",
       "242                    0.0                    0.0                    0.0   \n",
       "\n",
       "     status_3_ratio_lag_85  status_3_ratio_lag_119  status_3_ratio_lag_136  \\\n",
       "238                    0.0                     0.0                     0.0   \n",
       "239                    0.0                     0.0                     0.0   \n",
       "240                    0.0                     0.0                     0.0   \n",
       "241                    0.0                     0.0                     0.0   \n",
       "242                    0.0                     0.0                     0.0   \n",
       "\n",
       "     status_3_ratio_lag_153  status_3_ratio_lag_170  status_3_ratio_lag_187  \\\n",
       "238                     0.0                     0.0                     0.0   \n",
       "239                     0.0                     0.0                     0.0   \n",
       "240                     0.0                     0.0                     0.0   \n",
       "241                     0.0                     0.0                     0.0   \n",
       "242                     0.0                     0.0                     0.0   \n",
       "\n",
       "     status_3_ratio_lag_204  status_3_ratio_lag_221  status_3_ratio_lag_238  \\\n",
       "238                     0.0                     0.0                     0.0   \n",
       "239                     0.0                     0.0                     0.0   \n",
       "240                     0.0                     0.0                     0.0   \n",
       "241                     0.0                     0.0                     0.0   \n",
       "242                     0.0                     0.0                     0.0   \n",
       "\n",
       "     node_index  \n",
       "238           0  \n",
       "239           0  \n",
       "240           0  \n",
       "241           0  \n",
       "242           0  "
      ]
     },
     "metadata": {},
     "output_type": "display_data"
    }
   ],
   "source": [
    "\"\"\"\n",
    "Get embeddings\n",
    "\"\"\"\n",
    "pd.set_option('display.max_columns', None)  # None means all columns will be displayed\n",
    "\n",
    "# Load embeddings and get coordinates\n",
    "node_embeddings = torch.load('../../Models/GRU_Hybrid/Embeddings/node_embeddings_original.pt')\n",
    "coordinates = df[['latitude', 'longitude']].drop_duplicates()\n",
    "\n",
    "display(coordinates)\n",
    "\n",
    "# Function to fetch embeddings for each row in DataFrame\n",
    "def get_embedding(row):\n",
    "    index = row['node_index']\n",
    "    return node_embeddings[index]\n",
    "\n",
    "\n",
    "with open('../../Models/Hybrid/Variables/index_mapping_new.pkl', 'rb') as file:\n",
    "    index_mapping = pickle.load(file)\n",
    "\n",
    "#index_mapping = {tuple(row): i for i, row in enumerate(coordinates[['latitude', 'longitude']].values)}\n",
    "\n",
    "# Add a column for the node index in your DataFrame\n",
    "df['node_index'] = df.apply(lambda row: index_mapping[(row['latitude'], row['longitude'])], axis=1)\n",
    "display(df.head())\n",
    "\n"
   ]
  },
  {
   "cell_type": "code",
   "execution_count": 13,
   "metadata": {},
   "outputs": [],
   "source": [
    "\"\"\"\n",
    "Integrate node embeddings from GCN model\n",
    "\"\"\"\n",
    "# Apply function to add embeddings to your DataFrame and unpack tensor\n",
    "embedding_dimensions = node_embeddings.shape[1]  # Assuming node_embeddings is a 2D tensor\n",
    "for i in range(embedding_dimensions):\n",
    "    df[f'embedding_dim_{i}'] = df.apply(lambda row: get_embedding(row)[i], axis=1)\n",
    "    df[f'embedding_dim_{i}'] = df[f'embedding_dim_{i}'].apply(lambda x: x.item())\n"
   ]
  },
  {
   "cell_type": "code",
   "execution_count": 14,
   "metadata": {},
   "outputs": [],
   "source": [
    "\"\"\"\n",
    "Save the dataframe\n",
    "\"\"\"\n",
    "with open('df_embeddings_zeroes.pkl', 'wb') as f:\n",
    "    pickle.dump(df, f)"
   ]
  },
  {
   "cell_type": "code",
   "execution_count": 2,
   "metadata": {},
   "outputs": [],
   "source": [
    "\"\"\"\n",
    "Load the data\n",
    "\"\"\"\n",
    "with open('../../Models/GRU_Hybrid/Variables/df_embeddings_zeroes.pkl', 'rb') as file:\n",
    "    df = pickle.load(file)"
   ]
  },
  {
   "cell_type": "markdown",
   "metadata": {},
   "source": [
    "# Training and Testing Split"
   ]
  },
  {
   "cell_type": "markdown",
   "metadata": {},
   "source": [
    "### Divide data into training, testing and validation"
   ]
  },
  {
   "cell_type": "code",
   "execution_count": 15,
   "metadata": {},
   "outputs": [
    {
     "name": "stdout",
     "output_type": "stream",
     "text": [
      "1592\n",
      "1592\n",
      "228\n",
      "228\n",
      "455\n",
      "455\n"
     ]
    }
   ],
   "source": [
    "\"\"\"\n",
    "Splitting the data\n",
    "\"\"\"\n",
    "# Dictionary to hold the split data for each charging station\n",
    "grouped_data = {}\n",
    "# Group data by node_index\n",
    "grouped = df.groupby(['longitude','latitude'])\n",
    "\n",
    "# Split data for each charging station\n",
    "for (lon, lat), station_data in grouped:\n",
    "    # Split data for the current charging station\n",
    "    X = station_data.drop(['timestamp_rounded', 'node_index', 'longitude', 'latitude'], axis=1)  # Features\n",
    "    y = station_data['status_3_ratio']  # Target variable\n",
    "    timestamps = station_data['timestamp_rounded']  # Timestamps\n",
    "\n",
    "    # Further split the test_validation set into test and validation sets\n",
    "    X_train_val, X_test, y_train_val, y_test, timestamps_train_val, timestamps_test = train_test_split(\n",
    "        X, y, timestamps, test_size=0.2, shuffle=False)\n",
    "\n",
    "    # Further split the train_validation set into train and validation sets\n",
    "    X_train, X_val, y_train, y_val, timestamps_train, timestamps_val = train_test_split(\n",
    "        X_train_val, y_train_val, timestamps_train_val, test_size=0.1/(1-0.2), shuffle=False)\n",
    "\n",
    "    # Store the split data in the dictionary\n",
    "    grouped_data[(lon, lat)] = {\n",
    "        'train': (X_train, y_train, timestamps_train),\n",
    "        'validation': (X_val, y_val, timestamps_val),\n",
    "        'test': (X_test, y_test, timestamps_test)\n",
    "    }\n",
    "\n",
    "\n",
    "#------------------------------Verify the split------------------------------\n",
    "node_index = (8.213788, 56.70528)  # Example index\n",
    "\n",
    "\n",
    "#Get data at note_index\n",
    "X_train, y_train, timestamps_train = grouped_data[node_index]['train']\n",
    "X_val, y_val, timestamps_val = grouped_data[node_index]['validation']\n",
    "X_test, y_test, timestamps_test = grouped_data[node_index]['test']\n",
    "\n",
    "print(len(X_train))\n",
    "print(len(y_train))\n",
    "\n",
    "print(len(X_val))\n",
    "print(len(y_val))\n",
    "\n",
    "print(len(X_test))\n",
    "print(len(y_test))\n",
    "\n",
    "#display(\"Features:\", X_train)\n",
    "#display(\"Target:\", y_train)\n",
    "\n",
    "#Verifying the timestamps \n",
    "#print(\"Timestamps:\", timestamps_train.tail())\n",
    "#print(\"Timestamps:\", timestamps_val.head())\n",
    "#print(\"Timestamps:\", timestamps_val.tail())\n",
    "#print(\"Timestamps:\", timestamps_test.head())\n",
    "#print(\"Timestamps:\", timestamps_test.tail())\n"
   ]
  },
  {
   "cell_type": "code",
   "execution_count": 16,
   "metadata": {},
   "outputs": [
    {
     "data": {
      "application/vnd.jupyter.widget-view+json": {
       "model_id": "81830da00f744358a2fab22147675893",
       "version_major": 2,
       "version_minor": 0
      },
      "text/plain": [
       "Processing Groups:   0%|          | 0/392 [00:00<?, ?it/s]"
      ]
     },
     "metadata": {},
     "output_type": "display_data"
    }
   ],
   "source": [
    "\"\"\"\n",
    "Creating sequences for each charging station \n",
    "\"\"\"\n",
    "#dictionary to hold the data\n",
    "grouped_data = {}\n",
    "\n",
    "#----------------------------------------------------------------------------------------\n",
    "# function to create the sequences \n",
    "def create_sequences_and_split(data, n_steps, dynamic_features, static_features, target_column, timestamp_column, test_size=0.2, val_size=0.1):\n",
    "    grouped = data.groupby(['longitude', 'latitude'])\n",
    "\n",
    "    #iterate through every group \n",
    "    for (lon, lat), group in tqdm(grouped, desc=\"Processing Groups\"):\n",
    "        static_data = group[static_features].iloc[0]\n",
    "        \n",
    "        #create sequence lengths \n",
    "        X_group, y_group, timestamps_group = [], [], []\n",
    "        for i in range(len(group) - n_steps):\n",
    "            end_ix = i + n_steps\n",
    "            if end_ix > len(group):\n",
    "                break\n",
    "                \n",
    "            #add data \n",
    "            dynamic_seq = group[dynamic_features].iloc[i:end_ix]\n",
    "            combined_seq = np.hstack((dynamic_seq, np.tile(static_data, (n_steps, 1))))\n",
    "            X_group.append(combined_seq)\n",
    "            y_group.append(group[target_column].iloc[end_ix - 1])\n",
    "            timestamps_group.append(group[timestamp_column].iloc[end_ix - 1])\n",
    "\n",
    "        #divide into test and training \n",
    "        X_train_grp, X_test_grp, y_train_grp, y_test_grp, timestamps_train_grp, timestamps_test_grp = train_test_split(\n",
    "            X_group, y_group, timestamps_group, test_size=test_size, random_state=42, shuffle=False)\n",
    "        \n",
    "        #divide into training and validation \n",
    "        X_train_grp, X_val_grp, y_train_grp, y_val_grp, timestamps_train_grp, timestamps_val_grp = train_test_split(\n",
    "            X_train_grp, y_train_grp, timestamps_train_grp, test_size=val_size/(1.0 - test_size), random_state=42, shuffle=False)\n",
    "\n",
    "        #store the data \n",
    "        grouped_data[(lon, lat)] = {\n",
    "            'train': (X_train_grp, y_train_grp, timestamps_train_grp),\n",
    "            'val': (X_val_grp, y_val_grp, timestamps_val_grp),\n",
    "            'test': (X_test_grp, y_test_grp, timestamps_test_grp)\n",
    "        }\n",
    "\n",
    "    return grouped_data\n",
    "    \n",
    "\n",
    "#----------------------------------------------------------------------------------------\n",
    "# Features\n",
    "#dynamic_features = ['hours_elapsed', 'hour_sin', 'hour_cos', 'day_sin', 'day_cos', 'minute_sin', 'minute_cos',\n",
    "#                   'status_3_ratio_lag_1', 'status_3_ratio_lag_2', 'status_3_ratio_lag_17', 'status_3_ratio_lag_34', 'status_3_ratio_lag_51'\n",
    "#                   ,'status_3_ratio_lag_68', 'status_3_ratio_lag_85', 'status_3_ratio_lag_119','status_3_ratio_lag_136' 'status_3_ratio_lag_153',\n",
    "#                   'status_3_ratio_lag_170','status_3_ratio_lag_187', 'status_3_ratio_lag_204', 'status_3_ratio_lag_221', 'status_3_ratio_lag_238']\n",
    "\n",
    "dynamic_features = ['hours_elapsed', 'hour_sin', 'hour_cos', 'day_sin', 'day_cos', 'minute_sin', 'minute_cos',\n",
    "                   'status_3_ratio_lag_1', 'status_3_ratio_lag_2', 'status_3_ratio_lag_17', 'status_3_ratio_lag_34']\n",
    "\n",
    "static_features = ['embedding_dim_0', 'embedding_dim_1', 'embedding_dim_2', 'embedding_dim_3', 'embedding_dim_4','embedding_dim_5',        \n",
    "                   'embedding_dim_6', 'embedding_dim_7', 'embedding_dim_8', 'embedding_dim_9', 'embedding_dim_10', 'embedding_dim_11', 'embedding_dim_12', 'embedding_dim_13', 'embedding_dim_14', 'embedding_dim_15']\n",
    "\n",
    "target_column = 'status_3_ratio'\n",
    "timestamp_column = 'timestamp_rounded'\n",
    "\n",
    "\n",
    "# Variables\n",
    "n_steps = 34\n",
    "test_size = 0.2\n",
    "val_size = 0.1  # Size of the validation set as a proportion of the training set\n",
    "\n",
    "# Getting the sequences\n",
    "grouped_data = create_sequences_and_split(\n",
    "    df, n_steps, dynamic_features, static_features, target_column, timestamp_column, test_size, val_size)\n"
   ]
  },
  {
   "cell_type": "code",
   "execution_count": 17,
   "metadata": {},
   "outputs": [],
   "source": [
    "\n",
    "\"\"\"\n",
    "Save the data \n",
    "\"\"\"\n",
    "# Assuming X_train, X_test, y_train, y_test are the datasets you want to save\n",
    "file_path = 'sequence_dataset_hybrid_zeroes.pkl'  # Specify the file path where you want to save the data\n",
    "\n",
    "with open(file_path, 'wb') as file:\n",
    "    pickle.dump(grouped_data, file)\n"
   ]
  },
  {
   "cell_type": "code",
   "execution_count": 3,
   "metadata": {},
   "outputs": [],
   "source": [
    "\"\"\"\n",
    "Load the sequences\n",
    "\"\"\"\n",
    "# Assuming X_train, X_test, y_train, y_test are the datasets you want to save\n",
    "file_path = '../../Models/GRU_Hybrid/sequence_dataset_hybrid_zeroes.pkl'  # Specify the file path where you want to save the data\n",
    "\n",
    "with open(file_path, 'rb') as file:\n",
    "    grouped_data = pickle.load(file)"
   ]
  },
  {
   "cell_type": "code",
   "execution_count": 4,
   "metadata": {},
   "outputs": [
    {
     "name": "stdout",
     "output_type": "stream",
     "text": [
      "27\n"
     ]
    }
   ],
   "source": [
    "\"\"\"\n",
    "Converting to tensors \n",
    "\"\"\"\n",
    "# Function to convert sequences and targets to tensors\n",
    "def convert_to_tensors(data):\n",
    "    tensors_data = {}\n",
    "    for (lon, lat), data in data.items():\n",
    "        train_sequences, train_targets, _ = data['train']\n",
    "        val_sequences, val_targets, _ = data['val']\n",
    "        test_sequences, test_targets, _ = data['test']\n",
    "\n",
    "        # Convert sequences and targets to tensors\n",
    "        train_sequences_tensor = torch.tensor(np.array(train_sequences))\n",
    "        train_targets_tensor = torch.tensor(train_targets)\n",
    "        val_sequences_tensor = torch.tensor(np.array(val_sequences))\n",
    "        val_targets_tensor = torch.tensor(val_targets)\n",
    "        test_sequences_tensor = torch.tensor(np.array(test_sequences))\n",
    "        test_targets_tensor = torch.tensor(test_targets)\n",
    "\n",
    "        tensors_data[(lon, lat)] = {\n",
    "            'train_sequences': train_sequences_tensor,\n",
    "            'train_targets': train_targets_tensor,\n",
    "            'val_sequences': val_sequences_tensor,\n",
    "            'val_targets': val_targets_tensor,\n",
    "            'test_sequences': test_sequences_tensor,\n",
    "            'test_targets': test_targets_tensor,\n",
    "        }\n",
    "\n",
    "    return tensors_data\n",
    "\n",
    "\n",
    "# Convert sequences and targets to tensors\n",
    "grouped_data_tensors = convert_to_tensors(grouped_data)\n",
    "\n",
    "\n",
    "#--------------------------Example: get training loader--------------------------\n",
    "node_index = (8.213788, 56.70528)  # Example index\n",
    "\n",
    "# Accessing tensors for the specified charging station\n",
    "train_sequences = grouped_data_tensors[node_index]['train_sequences']\n",
    "train_targets = grouped_data_tensors[node_index]['train_targets']\n",
    "val_sequences = grouped_data_tensors[node_index]['val_sequences']\n",
    "val_targets = grouped_data_tensors[node_index]['val_targets']\n",
    "test_sequences = grouped_data_tensors[node_index]['test_sequences']\n",
    "test_targets = grouped_data_tensors[node_index]['test_targets']\n",
    "\n",
    "# Get number of features\n",
    "num_features = train_sequences.shape[-1]\n",
    "print(num_features)\n"
   ]
  },
  {
   "cell_type": "code",
   "execution_count": 5,
   "metadata": {},
   "outputs": [],
   "source": [
    "\"\"\"\n",
    "Convert grouped data to dataloaders\n",
    "\"\"\"\n",
    "# Function to create a dataloader for a single \n",
    "def create_dataloader(X, y, batch_size=64, shuffle=False, drop_last=True, num_workers=4, pin_memory=True):\n",
    "    # Assuming X and y are already numpy arrays, directly convert to tensors\n",
    "    X_tensor = torch.tensor(X, dtype=torch.float32)\n",
    "    y_tensor = torch.tensor(y, dtype=torch.float32)\n",
    "    dataset = TensorDataset(X_tensor, y_tensor)\n",
    "    loader = DataLoader(dataset, batch_size=batch_size, shuffle=shuffle, drop_last=drop_last, num_workers=num_workers, pin_memory=pin_memory)\n",
    "    return loader\n",
    "\n",
    "# Initialize lists to collect data across all groups\n",
    "all_X_train, all_y_train = [], []\n",
    "all_X_val, all_y_val = [], []\n",
    "all_X_test, all_y_test = [], []\n",
    "\n",
    "for coordinates, data in grouped_data.items():\n",
    "    # Extracting data for each set\n",
    "    X_train, y_train, _ = data['train']\n",
    "    X_val, y_val, _ = data['val']\n",
    "    X_test, y_test, _ = data['test']\n",
    "    \n",
    "    # Extend the global lists\n",
    "    all_X_train.extend(X_train)\n",
    "    all_y_train.extend(y_train)\n",
    "    all_X_val.extend(X_val)\n",
    "    all_y_val.extend(y_val)\n",
    "    all_X_test.extend(X_test)\n",
    "    all_y_test.extend(y_test)\n",
    "\n",
    "# Convert lists of numpy arrays to single numpy arrays\n",
    "all_X_train = np.array(all_X_train)\n",
    "all_y_train = np.array(all_y_train)\n",
    "all_X_val = np.array(all_X_val)\n",
    "all_y_val = np.array(all_y_val)\n",
    "all_X_test = np.array(all_X_test)\n",
    "all_y_test = np.array(all_y_test)\n",
    "\n",
    "# Now create DataLoaders using the updated create_dataloader function\n",
    "train_loader = create_dataloader(all_X_train, all_y_train, shuffle=False)\n",
    "val_loader = create_dataloader(all_X_val, all_y_val, shuffle=False)\n",
    "test_loader = create_dataloader(all_X_test, all_y_test, shuffle=False)\n",
    "\n"
   ]
  },
  {
   "cell_type": "markdown",
   "metadata": {},
   "source": [
    "# Model Definition"
   ]
  },
  {
   "cell_type": "code",
   "execution_count": 6,
   "metadata": {},
   "outputs": [
    {
     "name": "stdout",
     "output_type": "stream",
     "text": [
      "27\n",
      "cuda\n"
     ]
    },
    {
     "data": {
      "text/plain": [
       "<torch._C.Generator at 0x7f4419d59e30>"
      ]
     },
     "execution_count": 6,
     "metadata": {},
     "output_type": "execute_result"
    }
   ],
   "source": [
    "\"\"\"\n",
    "GRU model\n",
    "\"\"\"\n",
    "class GRUModel(nn.Module):\n",
    "    def __init__(self, input_size, hidden_layer_size, output_size, num_layers=2, dropout_rate=0.5):\n",
    "        super(GRUModel, self).__init__()\n",
    "        self.hidden_layer_size = hidden_layer_size\n",
    "\n",
    "        # Define GRU layer with the possibility of stacking and dropout\n",
    "        self.gru = nn.GRU(input_size, hidden_layer_size, num_layers=num_layers, \n",
    "                          batch_first=True, dropout=dropout_rate if num_layers > 1 else 0)\n",
    "\n",
    "        # Define output layer\n",
    "        self.linear = nn.Linear(hidden_layer_size, output_size)\n",
    "\n",
    "        # Add a sigmoid activation to constrain output between 0 and 1\n",
    "        self.sigmoid = nn.Sigmoid()\n",
    "\n",
    "        # Initialize weights\n",
    "        self.init_weights()\n",
    "\n",
    "    def init_weights(self):\n",
    "        # Use similar initialization for weights and biases as in the LSTM model\n",
    "        for name, param in self.gru.named_parameters():\n",
    "            if 'weight_ih' in name:\n",
    "                nn.init.xavier_uniform_(param.data)\n",
    "            elif 'weight_hh' in name:\n",
    "                nn.init.orthogonal_(param.data)\n",
    "            if 'bias' in name:\n",
    "                nn.init.uniform_(param.data, -0.01, 0.01)\n",
    "\n",
    "    def forward(self, input_seq):\n",
    "        # Forward pass through GRU layer\n",
    "        gru_out, _ = self.gru(input_seq)\n",
    "        \n",
    "        # Pass the output of the last time step through the linear layer\n",
    "        linear_output = self.linear(gru_out[:, -1, :])\n",
    "        \n",
    "        # Apply the sigmoid activation function\n",
    "        predictions = self.sigmoid(linear_output)\n",
    "        \n",
    "        return predictions.squeeze()  # This changes the shape from [batch_size, 1] to [batch_size]\n",
    "    \n",
    "\n",
    "\"\"\"\n",
    "Define model parameters\n",
    "\"\"\"\n",
    "#model parameters\n",
    "hidden_layer_size = 50\n",
    "output_size = 1\n",
    "num_layers = 3  # Added an additional LSTM layer\n",
    "dropout_rate = 0.5  # Only use if you have more than one LSTM layer\n",
    "batch_size = 1\n",
    "\n",
    "#instantiate the model \n",
    "inputs, labels = next(iter(train_loader))\n",
    "num_features = inputs.shape[-1]\n",
    "print(num_features)\n",
    "\n",
    "device = torch.device(\"cuda\" if torch.cuda.is_available() else \"cpu\")\n",
    "print(device)\n",
    "model = GRUModel(num_features, hidden_layer_size, output_size, num_layers, dropout_rate)\n",
    "model.to(device)\n",
    "\n",
    "# Set the random seed for reproducibility\n",
    "torch.manual_seed(42)"
   ]
  },
  {
   "cell_type": "code",
   "execution_count": 7,
   "metadata": {},
   "outputs": [
    {
     "name": "stderr",
     "output_type": "stream",
     "text": [
      "/home/emmett/.conda/envs/master_env/lib/python3.11/site-packages/torch/optim/lr_scheduler.py:28: UserWarning: The verbose parameter is deprecated. Please use get_last_lr() to access the learning rate.\n",
      "  warnings.warn(\"The verbose parameter is deprecated. Please use get_last_lr() \"\n"
     ]
    },
    {
     "data": {
      "application/vnd.jupyter.widget-view+json": {
       "model_id": "23e7b593fded4948b16511ce8d023e5e",
       "version_major": 2,
       "version_minor": 0
      },
      "text/plain": [
       "Epoch [1/20] Training:   0%|          | 0/9625 [00:00<?, ?it/s]"
      ]
     },
     "metadata": {},
     "output_type": "display_data"
    },
    {
     "data": {
      "application/vnd.jupyter.widget-view+json": {
       "model_id": "10a18c036b874e5ab4e13f68ef13ac6c",
       "version_major": 2,
       "version_minor": 0
      },
      "text/plain": [
       "Epoch [1/20] Validation:   0%|          | 0/1375 [00:00<?, ?it/s]"
      ]
     },
     "metadata": {},
     "output_type": "display_data"
    },
    {
     "name": "stdout",
     "output_type": "stream",
     "text": [
      "Epoch 1: Avg Training Loss = 0.0366, Avg Validation Loss = 0.0292\n"
     ]
    },
    {
     "data": {
      "application/vnd.jupyter.widget-view+json": {
       "model_id": "5441a768a623473790cc5d846ca0b123",
       "version_major": 2,
       "version_minor": 0
      },
      "text/plain": [
       "Epoch [2/20] Training:   0%|          | 0/9625 [00:00<?, ?it/s]"
      ]
     },
     "metadata": {},
     "output_type": "display_data"
    },
    {
     "data": {
      "application/vnd.jupyter.widget-view+json": {
       "model_id": "4dd584c60b7b4a3ca315d92375fd81a3",
       "version_major": 2,
       "version_minor": 0
      },
      "text/plain": [
       "Epoch [2/20] Validation:   0%|          | 0/1375 [00:00<?, ?it/s]"
      ]
     },
     "metadata": {},
     "output_type": "display_data"
    },
    {
     "name": "stdout",
     "output_type": "stream",
     "text": [
      "Epoch 2: Avg Training Loss = 0.0295, Avg Validation Loss = 0.0283\n"
     ]
    },
    {
     "data": {
      "application/vnd.jupyter.widget-view+json": {
       "model_id": "973cdce54b274e80afb74e52cb79112e",
       "version_major": 2,
       "version_minor": 0
      },
      "text/plain": [
       "Epoch [3/20] Training:   0%|          | 0/9625 [00:00<?, ?it/s]"
      ]
     },
     "metadata": {},
     "output_type": "display_data"
    },
    {
     "data": {
      "application/vnd.jupyter.widget-view+json": {
       "model_id": "bd6679c5a7644348a792b9fc5ee09670",
       "version_major": 2,
       "version_minor": 0
      },
      "text/plain": [
       "Epoch [3/20] Validation:   0%|          | 0/1375 [00:00<?, ?it/s]"
      ]
     },
     "metadata": {},
     "output_type": "display_data"
    },
    {
     "name": "stdout",
     "output_type": "stream",
     "text": [
      "Epoch 3: Avg Training Loss = 0.0287, Avg Validation Loss = 0.0280\n"
     ]
    },
    {
     "data": {
      "application/vnd.jupyter.widget-view+json": {
       "model_id": "fca3ace776ce4322b597db183f7a7912",
       "version_major": 2,
       "version_minor": 0
      },
      "text/plain": [
       "Epoch [4/20] Training:   0%|          | 0/9625 [00:00<?, ?it/s]"
      ]
     },
     "metadata": {},
     "output_type": "display_data"
    },
    {
     "data": {
      "application/vnd.jupyter.widget-view+json": {
       "model_id": "d803d94643f34d3f842c7046fcd5b757",
       "version_major": 2,
       "version_minor": 0
      },
      "text/plain": [
       "Epoch [4/20] Validation:   0%|          | 0/1375 [00:00<?, ?it/s]"
      ]
     },
     "metadata": {},
     "output_type": "display_data"
    },
    {
     "name": "stdout",
     "output_type": "stream",
     "text": [
      "Epoch 4: Avg Training Loss = 0.0283, Avg Validation Loss = 0.0278\n"
     ]
    },
    {
     "data": {
      "application/vnd.jupyter.widget-view+json": {
       "model_id": "3a62bb7fde8147f5ae5252b6196a8be6",
       "version_major": 2,
       "version_minor": 0
      },
      "text/plain": [
       "Epoch [5/20] Training:   0%|          | 0/9625 [00:00<?, ?it/s]"
      ]
     },
     "metadata": {},
     "output_type": "display_data"
    },
    {
     "data": {
      "application/vnd.jupyter.widget-view+json": {
       "model_id": "7bb8db09525347a084abf3898ea4d548",
       "version_major": 2,
       "version_minor": 0
      },
      "text/plain": [
       "Epoch [5/20] Validation:   0%|          | 0/1375 [00:00<?, ?it/s]"
      ]
     },
     "metadata": {},
     "output_type": "display_data"
    },
    {
     "name": "stdout",
     "output_type": "stream",
     "text": [
      "Epoch 5: Avg Training Loss = 0.0280, Avg Validation Loss = 0.0276\n"
     ]
    },
    {
     "data": {
      "application/vnd.jupyter.widget-view+json": {
       "model_id": "6ff2b5c31f504d3f9d27f30d0745e565",
       "version_major": 2,
       "version_minor": 0
      },
      "text/plain": [
       "Epoch [6/20] Training:   0%|          | 0/9625 [00:00<?, ?it/s]"
      ]
     },
     "metadata": {},
     "output_type": "display_data"
    },
    {
     "data": {
      "application/vnd.jupyter.widget-view+json": {
       "model_id": "2bb33b5a815c44f587930b5a1b45a05d",
       "version_major": 2,
       "version_minor": 0
      },
      "text/plain": [
       "Epoch [6/20] Validation:   0%|          | 0/1375 [00:00<?, ?it/s]"
      ]
     },
     "metadata": {},
     "output_type": "display_data"
    },
    {
     "name": "stdout",
     "output_type": "stream",
     "text": [
      "Epoch 6: Avg Training Loss = 0.0278, Avg Validation Loss = 0.0276\n"
     ]
    },
    {
     "data": {
      "application/vnd.jupyter.widget-view+json": {
       "model_id": "f79805b93fe546d69f2e947830599ca3",
       "version_major": 2,
       "version_minor": 0
      },
      "text/plain": [
       "Epoch [7/20] Training:   0%|          | 0/9625 [00:00<?, ?it/s]"
      ]
     },
     "metadata": {},
     "output_type": "display_data"
    },
    {
     "data": {
      "application/vnd.jupyter.widget-view+json": {
       "model_id": "5749bce068ae49ddbd39eba7b017d657",
       "version_major": 2,
       "version_minor": 0
      },
      "text/plain": [
       "Epoch [7/20] Validation:   0%|          | 0/1375 [00:00<?, ?it/s]"
      ]
     },
     "metadata": {},
     "output_type": "display_data"
    },
    {
     "name": "stdout",
     "output_type": "stream",
     "text": [
      "Epoch 7: Avg Training Loss = 0.0277, Avg Validation Loss = 0.0273\n"
     ]
    },
    {
     "data": {
      "application/vnd.jupyter.widget-view+json": {
       "model_id": "cb0107181f594d518de5122382b00f3d",
       "version_major": 2,
       "version_minor": 0
      },
      "text/plain": [
       "Epoch [8/20] Training:   0%|          | 0/9625 [00:00<?, ?it/s]"
      ]
     },
     "metadata": {},
     "output_type": "display_data"
    },
    {
     "data": {
      "application/vnd.jupyter.widget-view+json": {
       "model_id": "527d525e4e3645c9a2f128c4e64dd8a9",
       "version_major": 2,
       "version_minor": 0
      },
      "text/plain": [
       "Epoch [8/20] Validation:   0%|          | 0/1375 [00:00<?, ?it/s]"
      ]
     },
     "metadata": {},
     "output_type": "display_data"
    },
    {
     "name": "stdout",
     "output_type": "stream",
     "text": [
      "Epoch 8: Avg Training Loss = 0.0276, Avg Validation Loss = 0.0273\n"
     ]
    },
    {
     "data": {
      "application/vnd.jupyter.widget-view+json": {
       "model_id": "df5f8eb36d4b4f0c9b37de33adedb2c6",
       "version_major": 2,
       "version_minor": 0
      },
      "text/plain": [
       "Epoch [9/20] Training:   0%|          | 0/9625 [00:00<?, ?it/s]"
      ]
     },
     "metadata": {},
     "output_type": "display_data"
    },
    {
     "data": {
      "application/vnd.jupyter.widget-view+json": {
       "model_id": "a7f56c66dcde4929943379c698798276",
       "version_major": 2,
       "version_minor": 0
      },
      "text/plain": [
       "Epoch [9/20] Validation:   0%|          | 0/1375 [00:00<?, ?it/s]"
      ]
     },
     "metadata": {},
     "output_type": "display_data"
    },
    {
     "name": "stdout",
     "output_type": "stream",
     "text": [
      "Epoch 9: Avg Training Loss = 0.0274, Avg Validation Loss = 0.0271\n"
     ]
    },
    {
     "data": {
      "application/vnd.jupyter.widget-view+json": {
       "model_id": "da923837f3c74a91b590a96a2e593b09",
       "version_major": 2,
       "version_minor": 0
      },
      "text/plain": [
       "Epoch [10/20] Training:   0%|          | 0/9625 [00:00<?, ?it/s]"
      ]
     },
     "metadata": {},
     "output_type": "display_data"
    },
    {
     "data": {
      "application/vnd.jupyter.widget-view+json": {
       "model_id": "3efbfa079bc840199ffca543822e8a20",
       "version_major": 2,
       "version_minor": 0
      },
      "text/plain": [
       "Epoch [10/20] Validation:   0%|          | 0/1375 [00:00<?, ?it/s]"
      ]
     },
     "metadata": {},
     "output_type": "display_data"
    },
    {
     "name": "stdout",
     "output_type": "stream",
     "text": [
      "Epoch 10: Avg Training Loss = 0.0274, Avg Validation Loss = 0.0268\n"
     ]
    },
    {
     "data": {
      "application/vnd.jupyter.widget-view+json": {
       "model_id": "ab443dab97ef413f936aeaf541079b0a",
       "version_major": 2,
       "version_minor": 0
      },
      "text/plain": [
       "Epoch [11/20] Training:   0%|          | 0/9625 [00:00<?, ?it/s]"
      ]
     },
     "metadata": {},
     "output_type": "display_data"
    },
    {
     "data": {
      "application/vnd.jupyter.widget-view+json": {
       "model_id": "6dd1e129c9294ff793bb4beae36f5430",
       "version_major": 2,
       "version_minor": 0
      },
      "text/plain": [
       "Epoch [11/20] Validation:   0%|          | 0/1375 [00:00<?, ?it/s]"
      ]
     },
     "metadata": {},
     "output_type": "display_data"
    },
    {
     "name": "stdout",
     "output_type": "stream",
     "text": [
      "Epoch 11: Avg Training Loss = 0.0273, Avg Validation Loss = 0.0268\n"
     ]
    },
    {
     "data": {
      "application/vnd.jupyter.widget-view+json": {
       "model_id": "280bc2c8c2ae404aab6655e10287d0d8",
       "version_major": 2,
       "version_minor": 0
      },
      "text/plain": [
       "Epoch [12/20] Training:   0%|          | 0/9625 [00:00<?, ?it/s]"
      ]
     },
     "metadata": {},
     "output_type": "display_data"
    },
    {
     "data": {
      "application/vnd.jupyter.widget-view+json": {
       "model_id": "0d848255b2854e9093a31bed5498cd84",
       "version_major": 2,
       "version_minor": 0
      },
      "text/plain": [
       "Epoch [12/20] Validation:   0%|          | 0/1375 [00:00<?, ?it/s]"
      ]
     },
     "metadata": {},
     "output_type": "display_data"
    },
    {
     "name": "stdout",
     "output_type": "stream",
     "text": [
      "Epoch 12: Avg Training Loss = 0.0272, Avg Validation Loss = 0.0267\n"
     ]
    },
    {
     "data": {
      "application/vnd.jupyter.widget-view+json": {
       "model_id": "676720469eba4a849d649a36dbc1818b",
       "version_major": 2,
       "version_minor": 0
      },
      "text/plain": [
       "Epoch [13/20] Training:   0%|          | 0/9625 [00:00<?, ?it/s]"
      ]
     },
     "metadata": {},
     "output_type": "display_data"
    },
    {
     "data": {
      "application/vnd.jupyter.widget-view+json": {
       "model_id": "ac401cce53204b7e8bd0195039c3f02f",
       "version_major": 2,
       "version_minor": 0
      },
      "text/plain": [
       "Epoch [13/20] Validation:   0%|          | 0/1375 [00:00<?, ?it/s]"
      ]
     },
     "metadata": {},
     "output_type": "display_data"
    },
    {
     "name": "stdout",
     "output_type": "stream",
     "text": [
      "Epoch 13: Avg Training Loss = 0.0272, Avg Validation Loss = 0.0266\n"
     ]
    },
    {
     "data": {
      "application/vnd.jupyter.widget-view+json": {
       "model_id": "84fa4e69c0a24cc08197df019a5f2269",
       "version_major": 2,
       "version_minor": 0
      },
      "text/plain": [
       "Epoch [14/20] Training:   0%|          | 0/9625 [00:00<?, ?it/s]"
      ]
     },
     "metadata": {},
     "output_type": "display_data"
    },
    {
     "data": {
      "application/vnd.jupyter.widget-view+json": {
       "model_id": "97a1edf2cb1841b5a23df76c1cf42076",
       "version_major": 2,
       "version_minor": 0
      },
      "text/plain": [
       "Epoch [14/20] Validation:   0%|          | 0/1375 [00:00<?, ?it/s]"
      ]
     },
     "metadata": {},
     "output_type": "display_data"
    },
    {
     "name": "stdout",
     "output_type": "stream",
     "text": [
      "Epoch 14: Avg Training Loss = 0.0271, Avg Validation Loss = 0.0265\n"
     ]
    },
    {
     "data": {
      "application/vnd.jupyter.widget-view+json": {
       "model_id": "edfaf32fa35f4d6c8d43655b97953007",
       "version_major": 2,
       "version_minor": 0
      },
      "text/plain": [
       "Epoch [15/20] Training:   0%|          | 0/9625 [00:00<?, ?it/s]"
      ]
     },
     "metadata": {},
     "output_type": "display_data"
    },
    {
     "data": {
      "application/vnd.jupyter.widget-view+json": {
       "model_id": "6954a31e1e0743778cd2c34a4b0a381d",
       "version_major": 2,
       "version_minor": 0
      },
      "text/plain": [
       "Epoch [15/20] Validation:   0%|          | 0/1375 [00:00<?, ?it/s]"
      ]
     },
     "metadata": {},
     "output_type": "display_data"
    },
    {
     "name": "stdout",
     "output_type": "stream",
     "text": [
      "Epoch 15: Avg Training Loss = 0.0271, Avg Validation Loss = 0.0265\n"
     ]
    },
    {
     "data": {
      "application/vnd.jupyter.widget-view+json": {
       "model_id": "c6b93158708541b98ee5cc18a4d15e74",
       "version_major": 2,
       "version_minor": 0
      },
      "text/plain": [
       "Epoch [16/20] Training:   0%|          | 0/9625 [00:00<?, ?it/s]"
      ]
     },
     "metadata": {},
     "output_type": "display_data"
    },
    {
     "data": {
      "application/vnd.jupyter.widget-view+json": {
       "model_id": "ac48d3c1906d4adca24ff478788f71d8",
       "version_major": 2,
       "version_minor": 0
      },
      "text/plain": [
       "Epoch [16/20] Validation:   0%|          | 0/1375 [00:00<?, ?it/s]"
      ]
     },
     "metadata": {},
     "output_type": "display_data"
    },
    {
     "name": "stdout",
     "output_type": "stream",
     "text": [
      "Epoch 16: Avg Training Loss = 0.0271, Avg Validation Loss = 0.0264\n"
     ]
    },
    {
     "data": {
      "application/vnd.jupyter.widget-view+json": {
       "model_id": "25e92851c29746eaa80bce2561edccdd",
       "version_major": 2,
       "version_minor": 0
      },
      "text/plain": [
       "Epoch [17/20] Training:   0%|          | 0/9625 [00:00<?, ?it/s]"
      ]
     },
     "metadata": {},
     "output_type": "display_data"
    },
    {
     "data": {
      "application/vnd.jupyter.widget-view+json": {
       "model_id": "408954c3b98e45a3b476b7b551fca203",
       "version_major": 2,
       "version_minor": 0
      },
      "text/plain": [
       "Epoch [17/20] Validation:   0%|          | 0/1375 [00:00<?, ?it/s]"
      ]
     },
     "metadata": {},
     "output_type": "display_data"
    },
    {
     "name": "stdout",
     "output_type": "stream",
     "text": [
      "Epoch 17: Avg Training Loss = 0.0270, Avg Validation Loss = 0.0264\n"
     ]
    },
    {
     "data": {
      "application/vnd.jupyter.widget-view+json": {
       "model_id": "fd18b3ed0e294e398df6877aa42a222f",
       "version_major": 2,
       "version_minor": 0
      },
      "text/plain": [
       "Epoch [18/20] Training:   0%|          | 0/9625 [00:00<?, ?it/s]"
      ]
     },
     "metadata": {},
     "output_type": "display_data"
    },
    {
     "data": {
      "application/vnd.jupyter.widget-view+json": {
       "model_id": "bf4c9a5ca67d47888261e917f45300ee",
       "version_major": 2,
       "version_minor": 0
      },
      "text/plain": [
       "Epoch [18/20] Validation:   0%|          | 0/1375 [00:00<?, ?it/s]"
      ]
     },
     "metadata": {},
     "output_type": "display_data"
    },
    {
     "name": "stdout",
     "output_type": "stream",
     "text": [
      "Epoch 18: Avg Training Loss = 0.0270, Avg Validation Loss = 0.0264\n"
     ]
    },
    {
     "data": {
      "application/vnd.jupyter.widget-view+json": {
       "model_id": "e0badacee44047a1b47668a1d888e4b6",
       "version_major": 2,
       "version_minor": 0
      },
      "text/plain": [
       "Epoch [19/20] Training:   0%|          | 0/9625 [00:00<?, ?it/s]"
      ]
     },
     "metadata": {},
     "output_type": "display_data"
    },
    {
     "data": {
      "application/vnd.jupyter.widget-view+json": {
       "model_id": "51c76d213ca14fc297354ba25ca0335f",
       "version_major": 2,
       "version_minor": 0
      },
      "text/plain": [
       "Epoch [19/20] Validation:   0%|          | 0/1375 [00:00<?, ?it/s]"
      ]
     },
     "metadata": {},
     "output_type": "display_data"
    },
    {
     "name": "stdout",
     "output_type": "stream",
     "text": [
      "Epoch 19: Avg Training Loss = 0.0270, Avg Validation Loss = 0.0264\n"
     ]
    },
    {
     "data": {
      "application/vnd.jupyter.widget-view+json": {
       "model_id": "245454eb35b541adbabc4ef272695914",
       "version_major": 2,
       "version_minor": 0
      },
      "text/plain": [
       "Epoch [20/20] Training:   0%|          | 0/9625 [00:00<?, ?it/s]"
      ]
     },
     "metadata": {},
     "output_type": "display_data"
    },
    {
     "data": {
      "application/vnd.jupyter.widget-view+json": {
       "model_id": "89036837b4824bd4a56b70f070c8f8a1",
       "version_major": 2,
       "version_minor": 0
      },
      "text/plain": [
       "Epoch [20/20] Validation:   0%|          | 0/1375 [00:00<?, ?it/s]"
      ]
     },
     "metadata": {},
     "output_type": "display_data"
    },
    {
     "name": "stdout",
     "output_type": "stream",
     "text": [
      "Epoch 20: Avg Training Loss = 0.0269, Avg Validation Loss = 0.0263\n"
     ]
    }
   ],
   "source": [
    "\"\"\"\n",
    "Training the model\n",
    "\"\"\"\n",
    "#Function to train the model \n",
    "def train_model(model, train_loader, val_loader, criterion, optimizer, scheduler, num_epochs, device):\n",
    "    model.to(device)\n",
    "    # Lists to track the loss\n",
    "    epoch_train_losses = []\n",
    "    epoch_val_losses = []\n",
    "    \n",
    "    for epoch in range(num_epochs):\n",
    "        model.train()  # Switch to train mode\n",
    "        running_loss = 0.0\n",
    "        \n",
    "        # Training phase\n",
    "        train_loop = tqdm(train_loader, leave=True, desc=f'Epoch [{epoch+1}/{num_epochs}] Training')\n",
    "        for inputs, labels in train_loop:\n",
    "            inputs, labels = inputs.to(device), labels.to(device)\n",
    "            \n",
    "            # Forward pass\n",
    "            optimizer.zero_grad()\n",
    "            outputs = model(inputs).squeeze()  # Ensure the output is squeezed\n",
    "            loss = criterion(outputs, labels)\n",
    "            loss.backward()  # Backward pass\n",
    "            optimizer.step()  # Optimize\n",
    "\n",
    "            running_loss += loss.item() * inputs.size(0)\n",
    "            train_loop.set_postfix(loss=loss.item())\n",
    "\n",
    "        # Validation phase\n",
    "        model.eval()  # Switch to evaluation mode\n",
    "        val_loss = 0.0\n",
    "        val_loop = tqdm(val_loader, leave=False, desc=f'Epoch [{epoch+1}/{num_epochs}] Validation')\n",
    "        with torch.no_grad():\n",
    "            for inputs, labels in val_loop:\n",
    "                inputs, labels = inputs.to(device), labels.to(device)\n",
    "                outputs = model(inputs)\n",
    "                loss = criterion(outputs, labels)\n",
    "                val_loss += loss.item() * inputs.size(0)\n",
    "                val_loop.set_postfix(val_loss=loss.item())\n",
    "\n",
    "        # Average losses for this epoch\n",
    "        avg_train_loss = running_loss / len(train_loader.dataset)\n",
    "        avg_val_loss = val_loss / len(val_loader.dataset)\n",
    "        \n",
    "        # Append average losses to their respective lists\n",
    "        epoch_train_losses.append(avg_train_loss)\n",
    "        epoch_val_losses.append(avg_val_loss)\n",
    "\n",
    "        # Scheduler step (use validation loss to adjust learning rate)\n",
    "        scheduler.step(avg_val_loss)\n",
    "\n",
    "        # Display epoch-level statistics\n",
    "        print(f'Epoch {epoch+1}: Avg Training Loss = {avg_train_loss:.4f}, Avg Validation Loss = {avg_val_loss:.4f}')\n",
    "\n",
    "    return epoch_train_losses, epoch_val_losses\n",
    "\n",
    "\n",
    "#-----------------------Training the model---------------------------- \n",
    "optimizer = optim.AdamW(model.parameters(), lr=0.0001)\n",
    "scheduler = optim.lr_scheduler.ReduceLROnPlateau(optimizer, patience=3, verbose=True)\n",
    "criterion = nn.MSELoss()  \n",
    "\n",
    "epochs = 20\n",
    "\n",
    "# Training the model \n",
    "train_losses, val_losses = train_model(model, train_loader, val_loader, criterion, optimizer, scheduler, epochs, device)\n",
    "\n",
    "\n",
    "#------------------------Saving the model------------------------\n",
    "# Saving the model\n",
    "model_path = 'gru_hybrid_zeroes.pth'\n",
    "torch.save(model.state_dict(), model_path)\n",
    "\n",
    "# Saving the loss \n",
    "save_path = 'loss_gru_hybrid_zeroes.pth'\n",
    "with open(save_path, 'wb') as f:\n",
    "    pickle.dump({\n",
    "        'train_losses': train_losses,\n",
    "        'val_losses': val_losses\n",
    "    }, f)"
   ]
  },
  {
   "cell_type": "code",
   "execution_count": null,
   "metadata": {},
   "outputs": [],
   "source": [
    "\"\"\"\n",
    "Load the model\n",
    "\"\"\"\n",
    "model_path = '../../Models/GRU_Hybrid/New Models/gru_hybrid_zeroes.pkl'  # Specify the file path where you want to save the data\n",
    "model = torch.load(model_path)"
   ]
  },
  {
   "cell_type": "markdown",
   "metadata": {},
   "source": [
    "# Model Evaluation"
   ]
  },
  {
   "cell_type": "markdown",
   "metadata": {},
   "source": [
    "### Evaluation on existing stations"
   ]
  },
  {
   "cell_type": "code",
   "execution_count": 11,
   "metadata": {},
   "outputs": [
    {
     "data": {
      "image/png": "[encoded data removed]",
      "text/plain": [
       "<Figure size 1000x600 with 1 Axes>"
      ]
     },
     "metadata": {},
     "output_type": "display_data"
    }
   ],
   "source": [
    "\"\"\"\n",
    "Inspect individual stations \n",
    "\"\"\"\n",
    "# Function to make predictions\n",
    "def predict(model, dataloader):\n",
    "    model.eval()  # Set the model to evaluation mode\n",
    "    predictions = []\n",
    "    with torch.no_grad():\n",
    "        for inputs in dataloader:\n",
    "            inputs = inputs.to(device).float()  # Convert input to float32\n",
    "            outputs = model(inputs).squeeze().detach().cpu().numpy()  # Detach from the computational graph and move to CPU\n",
    "            predictions.extend(outputs)\n",
    "    return predictions\n",
    "\n",
    "# Get test sequences and targets for a specific charging station\n",
    "node_index = (8.141860, 55.555610)  # Example index\n",
    "test_sequences = grouped_data_tensors[node_index]['test_sequences']\n",
    "test_targets = grouped_data_tensors[node_index]['test_targets']\n",
    "\n",
    "# Make predictions for this charging station\n",
    "test_dataloader = DataLoader(test_sequences, batch_size=64, shuffle=False)\n",
    "station_predictions = predict(model, test_dataloader)\n",
    "\n",
    "# Plot actual vs. predicted values\n",
    "plt.figure(figsize=(10, 6))\n",
    "#plt.plot(test_targets, label='Actual')\n",
    "plt.plot(station_predictions, label='Forecast')\n",
    "plt.xlabel('Time Step')\n",
    "plt.ylabel('Status 3 Ratio')\n",
    "plt.title('Model Forecast vs. Actual Values')\n",
    "plt.legend()\n",
    "plt.show()\n"
   ]
  },
  {
   "cell_type": "markdown",
   "metadata": {},
   "source": [
    "### Evaluation on new stations "
   ]
  },
  {
   "cell_type": "markdown",
   "metadata": {},
   "source": []
  }
 ],
 "metadata": {
  "kernelspec": {
   "display_name": "Python 3 (ipykernel)",
   "language": "python",
   "name": "python3"
  },
  "language_info": {
   "codemirror_mode": {
    "name": "ipython",
    "version": 3
   },
   "file_extension": ".py",
   "mimetype": "text/x-python",
   "name": "python",
   "nbconvert_exporter": "python",
   "pygments_lexer": "ipython3",
   "version": "3.11.8"
  }
 },
 "nbformat": 4,
 "nbformat_minor": 4
}
